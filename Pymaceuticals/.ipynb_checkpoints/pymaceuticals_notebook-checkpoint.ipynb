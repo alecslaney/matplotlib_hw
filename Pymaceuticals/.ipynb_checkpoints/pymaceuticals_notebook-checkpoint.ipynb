{
 "cells": [
  {
   "cell_type": "markdown",
   "metadata": {},
   "source": [
    "## Observations and Insights"
   ]
  },
  {
   "cell_type": "markdown",
   "metadata": {},
   "source": []
  },
  {
   "cell_type": "code",
   "execution_count": 1,
   "metadata": {
    "scrolled": true
   },
   "outputs": [
    {
     "data": {
      "text/html": [
       "<div>\n",
       "<style scoped>\n",
       "    .dataframe tbody tr th:only-of-type {\n",
       "        vertical-align: middle;\n",
       "    }\n",
       "\n",
       "    .dataframe tbody tr th {\n",
       "        vertical-align: top;\n",
       "    }\n",
       "\n",
       "    .dataframe thead th {\n",
       "        text-align: right;\n",
       "    }\n",
       "</style>\n",
       "<table border=\"1\" class=\"dataframe\">\n",
       "  <thead>\n",
       "    <tr style=\"text-align: right;\">\n",
       "      <th></th>\n",
       "      <th>ID</th>\n",
       "      <th>Drug</th>\n",
       "      <th>Sex</th>\n",
       "      <th>Age</th>\n",
       "      <th>Weight</th>\n",
       "      <th>Timepoint</th>\n",
       "      <th>Tumor_Volume</th>\n",
       "      <th>Metastatic_Sites</th>\n",
       "    </tr>\n",
       "  </thead>\n",
       "  <tbody>\n",
       "    <tr>\n",
       "      <td>0</td>\n",
       "      <td>k403</td>\n",
       "      <td>Ramicane</td>\n",
       "      <td>Male</td>\n",
       "      <td>21</td>\n",
       "      <td>16</td>\n",
       "      <td>0</td>\n",
       "      <td>45.000000</td>\n",
       "      <td>0</td>\n",
       "    </tr>\n",
       "    <tr>\n",
       "      <td>1</td>\n",
       "      <td>k403</td>\n",
       "      <td>Ramicane</td>\n",
       "      <td>Male</td>\n",
       "      <td>21</td>\n",
       "      <td>16</td>\n",
       "      <td>5</td>\n",
       "      <td>38.825898</td>\n",
       "      <td>0</td>\n",
       "    </tr>\n",
       "    <tr>\n",
       "      <td>2</td>\n",
       "      <td>k403</td>\n",
       "      <td>Ramicane</td>\n",
       "      <td>Male</td>\n",
       "      <td>21</td>\n",
       "      <td>16</td>\n",
       "      <td>10</td>\n",
       "      <td>35.014271</td>\n",
       "      <td>1</td>\n",
       "    </tr>\n",
       "    <tr>\n",
       "      <td>3</td>\n",
       "      <td>k403</td>\n",
       "      <td>Ramicane</td>\n",
       "      <td>Male</td>\n",
       "      <td>21</td>\n",
       "      <td>16</td>\n",
       "      <td>15</td>\n",
       "      <td>34.223992</td>\n",
       "      <td>1</td>\n",
       "    </tr>\n",
       "    <tr>\n",
       "      <td>4</td>\n",
       "      <td>k403</td>\n",
       "      <td>Ramicane</td>\n",
       "      <td>Male</td>\n",
       "      <td>21</td>\n",
       "      <td>16</td>\n",
       "      <td>20</td>\n",
       "      <td>32.997729</td>\n",
       "      <td>1</td>\n",
       "    </tr>\n",
       "  </tbody>\n",
       "</table>\n",
       "</div>"
      ],
      "text/plain": [
       "     ID      Drug   Sex  Age  Weight  Timepoint  Tumor_Volume  \\\n",
       "0  k403  Ramicane  Male   21      16          0     45.000000   \n",
       "1  k403  Ramicane  Male   21      16          5     38.825898   \n",
       "2  k403  Ramicane  Male   21      16         10     35.014271   \n",
       "3  k403  Ramicane  Male   21      16         15     34.223992   \n",
       "4  k403  Ramicane  Male   21      16         20     32.997729   \n",
       "\n",
       "   Metastatic_Sites  \n",
       "0                 0  \n",
       "1                 0  \n",
       "2                 1  \n",
       "3                 1  \n",
       "4                 1  "
      ]
     },
     "execution_count": 1,
     "metadata": {},
     "output_type": "execute_result"
    }
   ],
   "source": [
    "# Dependencies\n",
    "import matplotlib.pyplot as plt\n",
    "import pandas as pd\n",
    "from scipy.stats import linregress\n",
    "\n",
    "# Study data files\n",
    "mouse_metadata = \"data/Mouse_metadata.csv\"\n",
    "study_results = \"data/Study_results.csv\"\n",
    "\n",
    "# Read the mouse data and the study results\n",
    "mouse_metadata = pd.read_csv(mouse_metadata)\n",
    "study_results = pd.read_csv(study_results)\n",
    "\n",
    "# Combine the data into a single dataset\n",
    "combined_df = pd.merge(mouse_metadata, study_results, how='inner', left_on='Mouse ID', right_on='Mouse ID')\n",
    "column_names = ['ID', 'Drug', 'Sex', 'Age', 'Weight', 'Timepoint', 'Tumor_Volume', 'Metastatic_Sites']\n",
    "combined_df.columns = column_names\n",
    "combined_df.head()"
   ]
  },
  {
   "cell_type": "code",
   "execution_count": 2,
   "metadata": {},
   "outputs": [
    {
     "data": {
      "text/html": [
       "<div>\n",
       "<style scoped>\n",
       "    .dataframe tbody tr th:only-of-type {\n",
       "        vertical-align: middle;\n",
       "    }\n",
       "\n",
       "    .dataframe tbody tr th {\n",
       "        vertical-align: top;\n",
       "    }\n",
       "\n",
       "    .dataframe thead th {\n",
       "        text-align: right;\n",
       "    }\n",
       "</style>\n",
       "<table border=\"1\" class=\"dataframe\">\n",
       "  <thead>\n",
       "    <tr style=\"text-align: right;\">\n",
       "      <th></th>\n",
       "      <th>ID</th>\n",
       "      <th>Drug</th>\n",
       "      <th>Sex</th>\n",
       "      <th>Age</th>\n",
       "      <th>Weight</th>\n",
       "      <th>Timepoint</th>\n",
       "      <th>Tumor_Volume</th>\n",
       "      <th>Metastatic_Sites</th>\n",
       "    </tr>\n",
       "  </thead>\n",
       "  <tbody>\n",
       "    <tr>\n",
       "      <td>0</td>\n",
       "      <td>k403</td>\n",
       "      <td>Ramicane</td>\n",
       "      <td>Male</td>\n",
       "      <td>21</td>\n",
       "      <td>16</td>\n",
       "      <td>0</td>\n",
       "      <td>45.000000</td>\n",
       "      <td>0</td>\n",
       "    </tr>\n",
       "    <tr>\n",
       "      <td>1</td>\n",
       "      <td>k403</td>\n",
       "      <td>Ramicane</td>\n",
       "      <td>Male</td>\n",
       "      <td>21</td>\n",
       "      <td>16</td>\n",
       "      <td>5</td>\n",
       "      <td>38.825898</td>\n",
       "      <td>0</td>\n",
       "    </tr>\n",
       "    <tr>\n",
       "      <td>2</td>\n",
       "      <td>k403</td>\n",
       "      <td>Ramicane</td>\n",
       "      <td>Male</td>\n",
       "      <td>21</td>\n",
       "      <td>16</td>\n",
       "      <td>10</td>\n",
       "      <td>35.014271</td>\n",
       "      <td>1</td>\n",
       "    </tr>\n",
       "    <tr>\n",
       "      <td>3</td>\n",
       "      <td>k403</td>\n",
       "      <td>Ramicane</td>\n",
       "      <td>Male</td>\n",
       "      <td>21</td>\n",
       "      <td>16</td>\n",
       "      <td>15</td>\n",
       "      <td>34.223992</td>\n",
       "      <td>1</td>\n",
       "    </tr>\n",
       "    <tr>\n",
       "      <td>4</td>\n",
       "      <td>k403</td>\n",
       "      <td>Ramicane</td>\n",
       "      <td>Male</td>\n",
       "      <td>21</td>\n",
       "      <td>16</td>\n",
       "      <td>20</td>\n",
       "      <td>32.997729</td>\n",
       "      <td>1</td>\n",
       "    </tr>\n",
       "  </tbody>\n",
       "</table>\n",
       "</div>"
      ],
      "text/plain": [
       "     ID      Drug   Sex  Age  Weight  Timepoint  Tumor_Volume  \\\n",
       "0  k403  Ramicane  Male   21      16          0     45.000000   \n",
       "1  k403  Ramicane  Male   21      16          5     38.825898   \n",
       "2  k403  Ramicane  Male   21      16         10     35.014271   \n",
       "3  k403  Ramicane  Male   21      16         15     34.223992   \n",
       "4  k403  Ramicane  Male   21      16         20     32.997729   \n",
       "\n",
       "   Metastatic_Sites  \n",
       "0                 0  \n",
       "1                 0  \n",
       "2                 1  \n",
       "3                 1  \n",
       "4                 1  "
      ]
     },
     "execution_count": 2,
     "metadata": {},
     "output_type": "execute_result"
    }
   ],
   "source": [
    "# Finds mice that have a datapoint at Timepoint \"45\" (appears to be last timepoint for treatment)\n",
    "# If a mice has a timepoint at 45, adds it to a list of mice that have completed treatment.\n",
    "# Afterward, a dataframe of only mice that have completed treatment is generated using list.\n",
    "completed_df = combined_df.loc[combined_df.Timepoint == 45, :]\n",
    "completed_treatment = completed_df.ID.tolist()\n",
    "completed_df = combined_df.loc[combined_df.ID.isin(completed_treatment), :]\n",
    "completed_df.head()"
   ]
  },
  {
   "cell_type": "markdown",
   "metadata": {},
   "source": [
    "## Summary statistics"
   ]
  },
  {
   "cell_type": "code",
   "execution_count": 3,
   "metadata": {},
   "outputs": [
    {
     "data": {
      "text/html": [
       "<div>\n",
       "<style scoped>\n",
       "    .dataframe tbody tr th:only-of-type {\n",
       "        vertical-align: middle;\n",
       "    }\n",
       "\n",
       "    .dataframe tbody tr th {\n",
       "        vertical-align: top;\n",
       "    }\n",
       "\n",
       "    .dataframe thead th {\n",
       "        text-align: right;\n",
       "    }\n",
       "</style>\n",
       "<table border=\"1\" class=\"dataframe\">\n",
       "  <thead>\n",
       "    <tr style=\"text-align: right;\">\n",
       "      <th></th>\n",
       "      <th>mean</th>\n",
       "      <th>median</th>\n",
       "      <th>var</th>\n",
       "      <th>std</th>\n",
       "      <th>sem</th>\n",
       "    </tr>\n",
       "    <tr>\n",
       "      <th>Drug</th>\n",
       "      <th></th>\n",
       "      <th></th>\n",
       "      <th></th>\n",
       "      <th></th>\n",
       "      <th></th>\n",
       "    </tr>\n",
       "  </thead>\n",
       "  <tbody>\n",
       "    <tr>\n",
       "      <td>Capomulin</td>\n",
       "      <td>40.570499</td>\n",
       "      <td>41.461125</td>\n",
       "      <td>25.103236</td>\n",
       "      <td>5.010313</td>\n",
       "      <td>0.345744</td>\n",
       "    </tr>\n",
       "    <tr>\n",
       "      <td>Ceftamin</td>\n",
       "      <td>53.771982</td>\n",
       "      <td>52.876429</td>\n",
       "      <td>41.043090</td>\n",
       "      <td>6.406488</td>\n",
       "      <td>0.561886</td>\n",
       "    </tr>\n",
       "    <tr>\n",
       "      <td>Infubinol</td>\n",
       "      <td>55.079630</td>\n",
       "      <td>54.675018</td>\n",
       "      <td>48.442724</td>\n",
       "      <td>6.960081</td>\n",
       "      <td>0.733657</td>\n",
       "    </tr>\n",
       "    <tr>\n",
       "      <td>Ketapril</td>\n",
       "      <td>57.464206</td>\n",
       "      <td>57.135995</td>\n",
       "      <td>74.829058</td>\n",
       "      <td>8.650379</td>\n",
       "      <td>0.824781</td>\n",
       "    </tr>\n",
       "    <tr>\n",
       "      <td>Naftisol</td>\n",
       "      <td>56.110502</td>\n",
       "      <td>55.011714</td>\n",
       "      <td>72.556662</td>\n",
       "      <td>8.518020</td>\n",
       "      <td>0.747080</td>\n",
       "    </tr>\n",
       "    <tr>\n",
       "      <td>Placebo</td>\n",
       "      <td>56.110591</td>\n",
       "      <td>55.534662</td>\n",
       "      <td>68.988135</td>\n",
       "      <td>8.305910</td>\n",
       "      <td>0.791937</td>\n",
       "    </tr>\n",
       "    <tr>\n",
       "      <td>Propriva</td>\n",
       "      <td>54.776216</td>\n",
       "      <td>53.606951</td>\n",
       "      <td>52.466725</td>\n",
       "      <td>7.243392</td>\n",
       "      <td>0.865751</td>\n",
       "    </tr>\n",
       "    <tr>\n",
       "      <td>Ramicane</td>\n",
       "      <td>39.757189</td>\n",
       "      <td>39.978202</td>\n",
       "      <td>24.031841</td>\n",
       "      <td>4.902228</td>\n",
       "      <td>0.346640</td>\n",
       "    </tr>\n",
       "    <tr>\n",
       "      <td>Stelasyn</td>\n",
       "      <td>56.220632</td>\n",
       "      <td>55.062141</td>\n",
       "      <td>66.013542</td>\n",
       "      <td>8.124872</td>\n",
       "      <td>0.774676</td>\n",
       "    </tr>\n",
       "    <tr>\n",
       "      <td>Zoniferol</td>\n",
       "      <td>54.682545</td>\n",
       "      <td>54.145372</td>\n",
       "      <td>49.980697</td>\n",
       "      <td>7.069703</td>\n",
       "      <td>0.597499</td>\n",
       "    </tr>\n",
       "  </tbody>\n",
       "</table>\n",
       "</div>"
      ],
      "text/plain": [
       "                mean     median        var       std       sem\n",
       "Drug                                                          \n",
       "Capomulin  40.570499  41.461125  25.103236  5.010313  0.345744\n",
       "Ceftamin   53.771982  52.876429  41.043090  6.406488  0.561886\n",
       "Infubinol  55.079630  54.675018  48.442724  6.960081  0.733657\n",
       "Ketapril   57.464206  57.135995  74.829058  8.650379  0.824781\n",
       "Naftisol   56.110502  55.011714  72.556662  8.518020  0.747080\n",
       "Placebo    56.110591  55.534662  68.988135  8.305910  0.791937\n",
       "Propriva   54.776216  53.606951  52.466725  7.243392  0.865751\n",
       "Ramicane   39.757189  39.978202  24.031841  4.902228  0.346640\n",
       "Stelasyn   56.220632  55.062141  66.013542  8.124872  0.774676\n",
       "Zoniferol  54.682545  54.145372  49.980697  7.069703  0.597499"
      ]
     },
     "execution_count": 3,
     "metadata": {},
     "output_type": "execute_result"
    }
   ],
   "source": [
    "# Generate a summary statistics table of mean, median, variance, standard deviation, and SEM of the tumor volume for each regimen\n",
    "bydrug_df = pd.DataFrame(completed_df.groupby('Drug').Tumor_Volume.agg(['mean', 'median', 'var', 'std', 'sem']))\n",
    "bydrug_df.head(10)"
   ]
  },
  {
   "cell_type": "markdown",
   "metadata": {},
   "source": [
    "## Bar plots"
   ]
  },
  {
   "cell_type": "code",
   "execution_count": 4,
   "metadata": {},
   "outputs": [],
   "source": [
    "# Creates a dataframe that holds drug names and the number of unique treatments\n",
    "treat_count_df = pd.DataFrame(completed_df.groupby('Drug').ID.count() / 10)\n",
    "treat_count_df[\"Drug\"] = treat_count_df.index\n",
    "treat_count_df.reset_index(drop=True, inplace=True)\n",
    "drug_name = treat_count_df.Drug.tolist()\n",
    "treatment_count = treat_count_df.ID"
   ]
  },
  {
   "cell_type": "code",
   "execution_count": 35,
   "metadata": {},
   "outputs": [
    {
     "data": {
      "text/plain": [
       "<matplotlib.axes._subplots.AxesSubplot at 0x18dfb811288>"
      ]
     },
     "execution_count": 35,
     "metadata": {},
     "output_type": "execute_result"
    },
    {
     "data": {
      "image/png": "[encoded data removed]",
      "text/plain": [
       "<Figure size 576x360 with 1 Axes>"
      ]
     },
     "metadata": {
      "needs_background": "light"
     },
     "output_type": "display_data"
    }
   ],
   "source": [
    "# Generate a bar plot showing number of data points for each treatment regimen using pandas\n",
    "title = 'Number of Mice Enrolled per Regimen'\n",
    "treatment_bar = treat_count_df.plot.bar(x='Drug', figsize=(8,5), title=title, fontsize=15, legend=False)\n",
    "treatment_bar"
   ]
  },
  {
   "cell_type": "code",
   "execution_count": 6,
   "metadata": {},
   "outputs": [
    {
     "data": {
      "image/png": "[encoded data removed]",
      "text/plain": [
       "<Figure size 432x288 with 1 Axes>"
      ]
     },
     "metadata": {
      "needs_background": "light"
     },
     "output_type": "display_data"
    }
   ],
   "source": [
    "# Generate a bar plot showing number of data points for each treatment regimen using pyplot\n",
    "plt.title(\"Number of Mice Enrolled per Regimen\")\n",
    "plt.ylabel(\"Number of Mice\")\n",
    "plt.xlabel(\"Drug used in Regimen\")\n",
    "plt.xticks(rotation='vertical')\n",
    "\n",
    "plt.bar(drug_name, treatment_count)\n",
    "plt.show()"
   ]
  },
  {
   "cell_type": "markdown",
   "metadata": {},
   "source": [
    "## Pie plots"
   ]
  },
  {
   "cell_type": "code",
   "execution_count": 7,
   "metadata": {},
   "outputs": [],
   "source": [
    "# Creates a dataframe sorted by unique ID and what sex it is\n",
    "unique_df = pd.DataFrame(completed_df.groupby([\"ID\", \"Sex\"]).Sex.count())\n",
    "unique_df[\"Sex\"] = unique_df.index.get_level_values(1)\n",
    "unique_df.index = unique_df.index.get_level_values(0)\n",
    "\n",
    "male = unique_df.loc[unique_df.Sex == 'Male'].count()[0]\n",
    "female = unique_df.loc[unique_df.Sex == 'Female'].count()[0]"
   ]
  },
  {
   "cell_type": "code",
   "execution_count": 25,
   "metadata": {},
   "outputs": [
    {
     "data": {
      "text/plain": [
       "<matplotlib.axes._subplots.AxesSubplot at 0x18dfb51ab08>"
      ]
     },
     "execution_count": 25,
     "metadata": {},
     "output_type": "execute_result"
    },
    {
     "data": {
      "image/png": "[encoded data removed]",
      "text/plain": [
       "<Figure size 576x576 with 1 Axes>"
      ]
     },
     "metadata": {},
     "output_type": "display_data"
    }
   ],
   "source": [
    "# Generate a pie plot showing the distribution of female versus male mice using pandas\n",
    "gender_df = pd.DataFrame([male, female], index = ['male', 'female'], columns=['distribution'])\n",
    "title = 'Distribution of Male v. Female Mice'\n",
    "gender_plot = gender_df.plot.pie(y='distribution', figsize=(8,8), autopct='%.2f %%', title=title, fontsize=20)\n",
    "gender_plot"
   ]
  },
  {
   "cell_type": "code",
   "execution_count": 9,
   "metadata": {},
   "outputs": [
    {
     "data": {
      "image/png": "[encoded data removed]",
      "text/plain": [
       "<Figure size 576x576 with 1 Axes>"
      ]
     },
     "metadata": {},
     "output_type": "display_data"
    }
   ],
   "source": [
    "# Generate a pie plot showing the distribution of female versus male mice using pyplot\n",
    "labels = ['Male', 'Female']\n",
    "colors = ['#abcdef', '#aabbcc']\n",
    "\n",
    "plt.figure(figsize=(8,8))\n",
    "plt.title('Distribution of Male v. Female Mice')\n",
    "plt.pie([male, female], labels = labels, colors=colors, autopct='%.2f %%')\n",
    "\n",
    "plt.show()"
   ]
  },
  {
   "cell_type": "markdown",
   "metadata": {},
   "source": [
    "## Quartiles, outliers and boxplots"
   ]
  },
  {
   "cell_type": "code",
   "execution_count": 10,
   "metadata": {},
   "outputs": [
    {
     "name": "stdout",
     "output_type": "stream",
     "text": [
      "The lower quartile of tumor volumes is: 33.48002734\n",
      "The upper quartile of tumor volumes is: 62.14221369\n",
      "The interquartile range of for all final tumor volumes is: 28.66218635\n",
      "The median for all final tumor volumes is: 40.1592203 \n",
      "Values below -9.513252184999999 could be outliers.\n",
      "Values above 105.135493215 could be outliers.\n"
     ]
    }
   ],
   "source": [
    "# Calculate the final tumor volume of each mouse across four of the most promising treatment regimens. Calculate the IQR and quantitatively determine if there are any potential outliers.\n",
    "final_df = completed_df.loc[completed_df.Timepoint == 45, :]\n",
    "promising = ['Capomulin', 'Ramicane', 'Infubinol', 'Ceftamin']\n",
    "promising_df = final_df.loc[final_df.Drug.isin(promising), :]\n",
    "\n",
    "tumor_volume = promising_df.Tumor_Volume\n",
    "quartiles = tumor_volume.quantile([.25,.5,.75])\n",
    "lowerq = quartiles[0.25]\n",
    "upperq = quartiles[0.75]\n",
    "iqr = upperq-lowerq\n",
    "\n",
    "print(f\"The lower quartile of tumor volumes is: {lowerq}\")\n",
    "print(f\"The upper quartile of tumor volumes is: {upperq}\")\n",
    "print(f\"The interquartile range of for all final tumor volumes is: {iqr}\")\n",
    "print(f\"The median for all final tumor volumes is: {quartiles[0.5]} \")\n",
    "\n",
    "lower_bound = lowerq - (1.5*iqr)\n",
    "upper_bound = upperq + (1.5*iqr)\n",
    "print(f\"Values below {lower_bound} could be outliers.\")\n",
    "print(f\"Values above {upper_bound} could be outliers.\")"
   ]
  },
  {
   "cell_type": "code",
   "execution_count": 11,
   "metadata": {},
   "outputs": [
    {
     "data": {
      "image/png": "[encoded data removed]",
      "text/plain": [
       "<Figure size 360x720 with 1 Axes>"
      ]
     },
     "metadata": {
      "needs_background": "light"
     },
     "output_type": "display_data"
    }
   ],
   "source": [
    "# Generate a box plot of the final tumor volume of each mouse across four regimens of interest\n",
    "Capomulin = final_df.loc[final_df.Drug == \"Capomulin\", \"Tumor_Volume\"]\n",
    "Ramicane = final_df.loc[final_df.Drug == \"Ramicane\", \"Tumor_Volume\"]\n",
    "Infubinol = final_df.loc[final_df.Drug == \"Infubinol\", \"Tumor_Volume\"]\n",
    "Ceftamin = final_df.loc[final_df.Drug == \"Ceftamin\", \"Tumor_Volume\"]\n",
    "\n",
    "plt.figure(figsize=(5,10))\n",
    "\n",
    "plt.title(\"Final Tumor Size for Four Most Effective Drugs\")\n",
    "plt.ylabel(\"Size of Tumor\")\n",
    "plt.xlabel(\"Drug Regimen\")\n",
    "\n",
    "boxplot = plt.boxplot([Capomulin, Ramicane, Infubinol, Ceftamin], labels=promising)\n",
    "plt.show()"
   ]
  },
  {
   "cell_type": "markdown",
   "metadata": {},
   "source": [
    "## Line and scatter plots"
   ]
  },
  {
   "cell_type": "code",
   "execution_count": 12,
   "metadata": {},
   "outputs": [
    {
     "data": {
      "text/html": [
       "<div>\n",
       "<style scoped>\n",
       "    .dataframe tbody tr th:only-of-type {\n",
       "        vertical-align: middle;\n",
       "    }\n",
       "\n",
       "    .dataframe tbody tr th {\n",
       "        vertical-align: top;\n",
       "    }\n",
       "\n",
       "    .dataframe thead th {\n",
       "        text-align: right;\n",
       "    }\n",
       "</style>\n",
       "<table border=\"1\" class=\"dataframe\">\n",
       "  <thead>\n",
       "    <tr style=\"text-align: right;\">\n",
       "      <th></th>\n",
       "      <th>ID</th>\n",
       "      <th>Timepoint</th>\n",
       "      <th>Tumor_Volume</th>\n",
       "    </tr>\n",
       "  </thead>\n",
       "  <tbody>\n",
       "    <tr>\n",
       "      <td>10</td>\n",
       "      <td>s185</td>\n",
       "      <td>0</td>\n",
       "      <td>45.000000</td>\n",
       "    </tr>\n",
       "    <tr>\n",
       "      <td>11</td>\n",
       "      <td>s185</td>\n",
       "      <td>5</td>\n",
       "      <td>43.878496</td>\n",
       "    </tr>\n",
       "    <tr>\n",
       "      <td>12</td>\n",
       "      <td>s185</td>\n",
       "      <td>10</td>\n",
       "      <td>37.614948</td>\n",
       "    </tr>\n",
       "    <tr>\n",
       "      <td>13</td>\n",
       "      <td>s185</td>\n",
       "      <td>15</td>\n",
       "      <td>38.177232</td>\n",
       "    </tr>\n",
       "    <tr>\n",
       "      <td>14</td>\n",
       "      <td>s185</td>\n",
       "      <td>20</td>\n",
       "      <td>36.866876</td>\n",
       "    </tr>\n",
       "    <tr>\n",
       "      <td>15</td>\n",
       "      <td>s185</td>\n",
       "      <td>25</td>\n",
       "      <td>33.949940</td>\n",
       "    </tr>\n",
       "    <tr>\n",
       "      <td>16</td>\n",
       "      <td>s185</td>\n",
       "      <td>30</td>\n",
       "      <td>32.959671</td>\n",
       "    </tr>\n",
       "    <tr>\n",
       "      <td>17</td>\n",
       "      <td>s185</td>\n",
       "      <td>35</td>\n",
       "      <td>28.328531</td>\n",
       "    </tr>\n",
       "    <tr>\n",
       "      <td>18</td>\n",
       "      <td>s185</td>\n",
       "      <td>40</td>\n",
       "      <td>25.472143</td>\n",
       "    </tr>\n",
       "    <tr>\n",
       "      <td>19</td>\n",
       "      <td>s185</td>\n",
       "      <td>45</td>\n",
       "      <td>23.343598</td>\n",
       "    </tr>\n",
       "  </tbody>\n",
       "</table>\n",
       "</div>"
      ],
      "text/plain": [
       "      ID  Timepoint  Tumor_Volume\n",
       "10  s185          0     45.000000\n",
       "11  s185          5     43.878496\n",
       "12  s185         10     37.614948\n",
       "13  s185         15     38.177232\n",
       "14  s185         20     36.866876\n",
       "15  s185         25     33.949940\n",
       "16  s185         30     32.959671\n",
       "17  s185         35     28.328531\n",
       "18  s185         40     25.472143\n",
       "19  s185         45     23.343598"
      ]
     },
     "execution_count": 12,
     "metadata": {},
     "output_type": "execute_result"
    }
   ],
   "source": [
    "# Mouse with ID #S185 is a mouse that has gone through full treatment with Capomulin\n",
    "capomulin_df = completed_df.loc[completed_df.Drug == \"Capomulin\", ['ID', 'Timepoint', 'Tumor_Volume']]\n",
    "s185_df = capomulin_df.head(10)\n",
    "s185_df"
   ]
  },
  {
   "cell_type": "code",
   "execution_count": 13,
   "metadata": {},
   "outputs": [
    {
     "data": {
      "image/png": "[encoded data removed]",
      "text/plain": [
       "<Figure size 576x360 with 1 Axes>"
      ]
     },
     "metadata": {
      "needs_background": "light"
     },
     "output_type": "display_data"
    }
   ],
   "source": [
    "# Generate a line plot of time point versus tumor volume for a mouse treated with Capomulin\n",
    "plt.figure(figsize=(8,5))\n",
    "plt.xticks(s185_df.Timepoint)\n",
    "\n",
    "plt.title(\"Tumor Volume for Mouse treated w/ Capomulin, ID #S185\")\n",
    "plt.xlabel(\"Timepoint\")\n",
    "plt.ylabel(\"Tumor Volume (mm3)\")\n",
    "\n",
    "plt.plot(s185_df.Timepoint, s185_df.Tumor_Volume, 'g.-')\n",
    "plt.show()"
   ]
  },
  {
   "cell_type": "code",
   "execution_count": 14,
   "metadata": {},
   "outputs": [],
   "source": [
    "# Creates a dataframe of average tumor size for each mouse treated with capomulin, and appends their weight from mouse metadata CSV\n",
    "capomulin_treated_df = mouse_metadata.loc[mouse_metadata[\"Drug Regimen\"] == \"Capomulin\", [\"Mouse ID\", \"Weight (g)\"]]\n",
    "avg_tumor_volume_df = pd.DataFrame(completed_df.groupby(\"ID\").Tumor_Volume.mean())\n",
    "avg_df = pd.merge(avg_tumor_volume_df, capomulin_treated_df, how='inner', left_on='ID', right_on='Mouse ID')"
   ]
  },
  {
   "cell_type": "code",
   "execution_count": 15,
   "metadata": {},
   "outputs": [
    {
     "data": {
      "image/png": "[encoded data removed]",
      "text/plain": [
       "<Figure size 576x360 with 1 Axes>"
      ]
     },
     "metadata": {
      "needs_background": "light"
     },
     "output_type": "display_data"
    }
   ],
   "source": [
    "# Generate a scatter plot of mouse weight versus average tumor volume for the Capomulin regimen\n",
    "# Calculate the correlation coefficient and linear regression model for mouse weight and average tumor volume for the Capomulin regimen\n",
    "weight = avg_df[\"Weight (g)\"]\n",
    "volume = avg_df.Tumor_Volume\n",
    "\n",
    "plt.figure(figsize=(8,5))\n",
    "plt.title(\"Avg Tumor Volume v. Mouse Weight for Capomulin-treated Mice\")\n",
    "plt.xlabel(\"Mouse Weight (g)\")\n",
    "plt.ylabel(\"Avg Tumor Volume (mm3)\")\n",
    "\n",
    "plt.scatter(weight, volume, s=75, c='green', edgecolor='black', linewidth=1, alpha=0.75)\n",
    "\n",
    "# Calculate the correlation coefficient and linear regression model for mouse weight and average tumor volume for the Capomulin regimen\n",
    "(slope, intercept, rvalue, pvalue, stderr) = linregress(weight, volume)\n",
    "regress_values = weight * slope + intercept\n",
    "line_eq = \"y = \" + str(round(slope,2)) + \"x + \" + str(round(intercept,2))\n",
    "\n",
    "plt.plot(weight,regress_values,\"r-\")\n",
    "plt.annotate(line_eq,(18,38),fontsize=15,color=\"red\")\n",
    "plt.show()"
   ]
  }
 ],
 "metadata": {
  "anaconda-cloud": {},
  "kernelspec": {
   "display_name": "Python 3",
   "language": "python",
   "name": "python3"
  },
  "language_info": {
   "codemirror_mode": {
    "name": "ipython",
    "version": 3
   },
   "file_extension": ".py",
   "mimetype": "text/x-python",
   "name": "python",
   "nbconvert_exporter": "python",
   "pygments_lexer": "ipython3",
   "version": "3.7.4"
  }
 },
 "nbformat": 4,
 "nbformat_minor": 2
}
